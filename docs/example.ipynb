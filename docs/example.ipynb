{
 "cells": [
  {
   "cell_type": "markdown",
   "metadata": {},
   "source": [
    "# Welcome to the `pl_viz` Tutorial!"
   ]
  },
  {
   "cell_type": "markdown",
   "metadata": {},
   "source": [
    "This tutorial is designed to demonstrate how `pl_viz` simplifies the process of extracting and visualizing data from PrairieLearn. Whether you're analyzing student performance, exploring assessment statistics, or creating insightful visualizations, pl_viz provides the tools to make it efficient and intuitive.\n",
    "\n",
    "Let’s get started by importing the package and exploring its capabilities!"
   ]
  },
  {
   "cell_type": "code",
   "execution_count": 1,
   "metadata": {},
   "outputs": [],
   "source": [
    "import os\n",
    "from pl_viz.pl_api import Assessment, Course, Student\n",
    "from pl_viz.utils import fetch_data, find_students"
   ]
  },
  {
   "cell_type": "markdown",
   "metadata": {},
   "source": [
    "To extract data using `pl_viz`, you'll need a valid PrairieLearn (PL) API token. You can obtain this token directly from the PrairieLearn platform under Settings. \n",
    "\n",
    "For security and convenience, it’s recommended to store the token as an environment variable, which is what I've done here. Make sure to set the `PL_API_TOKEN` environment variable on your machine before running the code."
   ]
  },
  {
   "cell_type": "code",
   "execution_count": 2,
   "metadata": {},
   "outputs": [],
   "source": [
    "token = os.getenv('PL_API_TOKEN')"
   ]
  },
  {
   "cell_type": "markdown",
   "metadata": {},
   "source": [
    "## The `pl_viz` Package: Object-Oriented Design\n",
    "\n",
    "\n",
    "The `pl_viz` package leverages object-oriented programming to provide an intuitive structure for working with PrairieLearn data. It includes three core classes: `Course`, `Student`, and `Assessment`. In this tutorial, we'll explore each class, discussing their attributes and methods."
   ]
  },
  {
   "cell_type": "markdown",
   "metadata": {},
   "source": [
    "### The `Course` Class\n",
    "\n",
    "The `Course` class allows you to create an object representing a course in PrairieLearn. To instantiate a `Course` object, you need the following parameters:\n",
    "- `course_code`: A code you define to represent the course (e.g., \"511\" for DSCI 511).\n",
    "- `course_id`: A six-digit number uniquely identifying the course on PrairieLearn. You can find this in the course URL on the PrairieLearn platform.\n",
    "- `token`: Your PrairieLearn API token, required to authenticate API requests.\n",
    "\n",
    "Here’s an example of creating a `Course` object for DSCI 511, which has a `course_id` of 161590:"
   ]
  },
  {
   "cell_type": "code",
   "execution_count": 3,
   "metadata": {},
   "outputs": [],
   "source": [
    "course_511 = Course(\"511\", 161590, token)"
   ]
  },
  {
   "cell_type": "markdown",
   "metadata": {},
   "source": [
    "Once you’ve instantiated a `Course` object, you can use its methods to fetch and analyze data. Key methods include:\n",
    "\n",
    "1. `show_student_list()`: Fetches student data (if not already fetched) and prints the list of students enrolled in the course.\n",
    "\n",
    "2. `get_assessment_summary_statistics()`: Fetches assessment data (if not already fetched) and prints summary statistics for each assessment, including the number of submissions, mean score, median score, maximum score, and minimum score.\n",
    "\n",
    "3. `plot_boxplot()`: Generates a boxplot visualization of score distributions across all assessments in the course.\n",
    "\n",
    "4. `plot_histogram()`: Creates a histogram visualization of score distributions for all assessments in the course.\n",
    "\n",
    "The methods above automatically fetch the required data if it hasn’t already been retrieved. However, you can also manually fetch data using the following methods:\n",
    "- `fetch_students()`: Fetches and populates the list of students enrolled in the course.\n",
    "- `fetch_assessments()`: Fetches and populates the list of assessments for the course."
   ]
  },
  {
   "cell_type": "markdown",
   "metadata": {},
   "source": [
    "### The `Student` Class\n",
    "\n",
    "When you fetch student data using a `Course` instance, `pl_viz` automatically creates a `Student` instance for each student enrolled in the course. These `Student` instances are stored in the students attribute (a list) of the `Course` instance, allowing you to easily access and manage student information."
   ]
  },
  {
   "cell_type": "code",
   "execution_count": 5,
   "metadata": {},
   "outputs": [
    {
     "ename": "ValueError",
     "evalue": "Failed to fetch students. Status Code: 401",
     "output_type": "error",
     "traceback": [
      "\u001b[0;31m---------------------------------------------------------------------------\u001b[0m",
      "\u001b[0;31mValueError\u001b[0m                                Traceback (most recent call last)",
      "Cell \u001b[0;32mIn[5], line 1\u001b[0m\n\u001b[0;32m----> 1\u001b[0m \u001b[43mcourse_511\u001b[49m\u001b[38;5;241;43m.\u001b[39;49m\u001b[43mfetch_students\u001b[49m\u001b[43m(\u001b[49m\u001b[43m)\u001b[49m\n\u001b[1;32m      2\u001b[0m course_511\u001b[38;5;241m.\u001b[39mstudents\n",
      "File \u001b[0;32m~/git/prairielearn-viz/src/pl_viz/pl_api.py:50\u001b[0m, in \u001b[0;36mCourse.fetch_students\u001b[0;34m(self, global_students)\u001b[0m\n\u001b[1;32m     48\u001b[0m     \u001b[38;5;28mprint\u001b[39m(\u001b[38;5;124mf\u001b[39m\u001b[38;5;124m\"\u001b[39m\u001b[38;5;130;01m\\n\u001b[39;00m\u001b[38;5;124mFetched \u001b[39m\u001b[38;5;132;01m{\u001b[39;00m\u001b[38;5;28mlen\u001b[39m(\u001b[38;5;28mself\u001b[39m\u001b[38;5;241m.\u001b[39mstudents)\u001b[38;5;132;01m}\u001b[39;00m\u001b[38;5;124m students for course code \u001b[39m\u001b[38;5;132;01m{\u001b[39;00m\u001b[38;5;28mself\u001b[39m\u001b[38;5;241m.\u001b[39mcourse_code\u001b[38;5;132;01m}\u001b[39;00m\u001b[38;5;124m.\u001b[39m\u001b[38;5;124m\"\u001b[39m)\n\u001b[1;32m     49\u001b[0m \u001b[38;5;28;01melse\u001b[39;00m:\n\u001b[0;32m---> 50\u001b[0m     \u001b[38;5;28;01mraise\u001b[39;00m \u001b[38;5;167;01mValueError\u001b[39;00m(\u001b[38;5;124mf\u001b[39m\u001b[38;5;124m\"\u001b[39m\u001b[38;5;124mFailed to fetch students. Status Code: \u001b[39m\u001b[38;5;132;01m{\u001b[39;00mresponse\u001b[38;5;241m.\u001b[39mstatus_code\u001b[38;5;132;01m}\u001b[39;00m\u001b[38;5;124m\"\u001b[39m)\n",
      "\u001b[0;31mValueError\u001b[0m: Failed to fetch students. Status Code: 401"
     ]
    }
   ],
   "source": [
    "course_511.fetch_students()\n",
    "course_511.students"
   ]
  },
  {
   "cell_type": "markdown",
   "metadata": {},
   "source": [
    "Each `Student` instance provides access to key information about the student through the following attributes:\n",
    "\n",
    "- `student.user_id`: A unique identifier for the student on PrairieLearn.\n",
    "- `student.user_name`: The full name of the student.\n",
    "- `student.user_uid`: The student’s UID\n",
    "\n",
    "Each `Student` instance will also have a `self.courses` attribute to indicate the courses this student is enrolled in. You can:\n",
    "- `student.add_course()`: add a course instance to this list\n",
    "- `student.list_courses()`: print out the courses the student currently has\n",
    "\n",
    "The course list allows you to run the following method to fetch the grades of this student for the courses\n",
    "- `student.fetch_all_grades()`: fetch all of the grades this student currently has for the courses  \n",
    "\n",
    "The grades will be saved under another `self.grades` attribute which you can then use to plot other functions.\n",
    "- `student.plot_grades()`: Plot the grades of the student using Altair. Optionally filter by one or more course_codes.\n"
   ]
  },
  {
   "cell_type": "markdown",
   "metadata": {},
   "source": []
  }
 ],
 "metadata": {
  "kernelspec": {
   "display_name": "pl-viz",
   "language": "python",
   "name": "python3"
  },
  "language_info": {
   "codemirror_mode": {
    "name": "ipython",
    "version": 3
   },
   "file_extension": ".py",
   "mimetype": "text/x-python",
   "name": "python",
   "nbconvert_exporter": "python",
   "pygments_lexer": "ipython3",
   "version": "3.10.15"
  }
 },
 "nbformat": 4,
 "nbformat_minor": 2
}
