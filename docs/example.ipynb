{
 "cells": [
  {
   "cell_type": "markdown",
   "metadata": {},
   "source": [
    "# Welcome to the `pl_viz` Tutorial!"
   ]
  },
  {
   "cell_type": "markdown",
   "metadata": {},
   "source": [
    "This tutorial is designed to demonstrate how `pl_viz` simplifies the process of extracting and visualizing data from PrairieLearn. Whether you're analyzing student performance, exploring assessment statistics, or creating insightful visualizations, pl_viz provides the tools to make it efficient and intuitive.\n",
    "\n",
    "Let’s get started by importing the package and exploring its capabilities!"
   ]
  },
  {
   "cell_type": "code",
   "execution_count": 12,
   "metadata": {},
   "outputs": [],
   "source": [
    "import os\n",
    "from pl_viz.pl_api import Assessment, Course, Student"
   ]
  },
  {
   "cell_type": "markdown",
   "metadata": {},
   "source": [
    "To extract data using `pl_viz`, you'll need a valid PrairieLearn (PL) API token. You can obtain this token directly from the PrairieLearn platform under Settings. \n",
    "\n",
    "For security and convenience, it’s recommended to store the token as an environment variable, which is what I've done here. Make sure to set the `PL_API_TOKEN` environment variable on your machine before running the code."
   ]
  },
  {
   "cell_type": "code",
   "execution_count": 2,
   "metadata": {},
   "outputs": [],
   "source": [
    "token = os.getenv('PL_API_TOKEN')"
   ]
  },
  {
   "cell_type": "markdown",
   "metadata": {},
   "source": [
    "## The `pl_viz` Package: Object-Oriented Design\n",
    "\n",
    "\n",
    "The `pl_viz` package leverages object-oriented programming to provide an intuitive structure for working with PrairieLearn data. It includes three core classes: `Course`, `Student`, and `Assessment`. In this tutorial, we'll explore each class, discussing their attributes and methods."
   ]
  },
  {
   "cell_type": "markdown",
   "metadata": {},
   "source": [
    "### The `Course` Class\n",
    "\n",
    "The `Course` class allows you to create an object representing a course in PrairieLearn. To instantiate a `Course` object, you need the following parameters:\n",
    "- `course_code`: A code you define to represent the course (e.g., \"511\" for DSCI 511).\n",
    "- `course_id`: A six-digit number uniquely identifying the course on PrairieLearn. You can find this in the course URL on the PrairieLearn platform.\n",
    "- `token`: Your PrairieLearn API token, required to authenticate API requests.\n",
    "\n",
    "Here’s an example of creating a `Course` object for DSCI 511, which has a `course_id` of 161590:"
   ]
  },
  {
   "cell_type": "code",
   "execution_count": 5,
   "metadata": {},
   "outputs": [],
   "source": [
    "course_511 = Course(\"511\", 161590, token)"
   ]
  },
  {
   "cell_type": "markdown",
   "metadata": {},
   "source": [
    "Once you’ve instantiated a `Course` object, you can use its methods to fetch and analyze data. Key methods include:\n",
    "\n",
    "1. `show_student_list()`: Fetches student data (if not already fetched) and prints the list of students enrolled in the course.\n",
    "\n",
    "2. `get_assessment_summary_statistics()`: Fetches assessment data (if not already fetched) and prints summary statistics for each assessment, including the number of submissions, mean score, median score, maximum score, and minimum score.\n",
    "\n",
    "3. `plot_boxplot()`: Generates a boxplot visualization of score distributions across all assessments in the course.\n",
    "\n",
    "4. `plot_histogram()`: Creates a histogram visualization of score distributions for all assessments in the course.\n",
    "\n",
    "The methods above automatically fetch the required data if it hasn’t already been retrieved. However, you can also manually fetch data using the following methods:\n",
    "- `fetch_students()`: Fetches and populates the list of students enrolled in the course.\n",
    "- `fetch_assessments()`: Fetches and populates the list of assessments for the course."
   ]
  },
  {
   "cell_type": "markdown",
   "metadata": {},
   "source": [
    "### The `Student` Class\n",
    "\n",
    "When you fetch student data using a `Course` instance, `pl_viz` automatically creates a `Student` instance for each student enrolled in the course. These `Student` instances are stored in the students attribute (a list) of the `Course` instance, allowing you to easily access and manage student information."
   ]
  },
  {
   "cell_type": "code",
   "execution_count": 11,
   "metadata": {},
   "outputs": [
    {
     "data": {
      "text/plain": [
       "[<pl_viz.pl_api.Student at 0x105b921d0>,\n",
       " <pl_viz.pl_api.Student at 0x105b90b50>,\n",
       " <pl_viz.pl_api.Student at 0x10d5a5cf0>,\n",
       " <pl_viz.pl_api.Student at 0x10d5a6260>,\n",
       " <pl_viz.pl_api.Student at 0x10d5a65c0>,\n",
       " <pl_viz.pl_api.Student at 0x10d5a7a00>,\n",
       " <pl_viz.pl_api.Student at 0x10d5a7a60>,\n",
       " <pl_viz.pl_api.Student at 0x10d5a7a90>,\n",
       " <pl_viz.pl_api.Student at 0x10d5a7ac0>,\n",
       " <pl_viz.pl_api.Student at 0x10d5a79a0>,\n",
       " <pl_viz.pl_api.Student at 0x10d5a5b70>,\n",
       " <pl_viz.pl_api.Student at 0x10d5a6740>,\n",
       " <pl_viz.pl_api.Student at 0x10d5a7df0>,\n",
       " <pl_viz.pl_api.Student at 0x10d5a7e20>,\n",
       " <pl_viz.pl_api.Student at 0x10d5a6620>,\n",
       " <pl_viz.pl_api.Student at 0x10d5a6200>,\n",
       " <pl_viz.pl_api.Student at 0x10d5a61a0>,\n",
       " <pl_viz.pl_api.Student at 0x10d5a7a30>,\n",
       " <pl_viz.pl_api.Student at 0x10d5a7af0>,\n",
       " <pl_viz.pl_api.Student at 0x10d5a7ee0>,\n",
       " <pl_viz.pl_api.Student at 0x10d5a7b80>,\n",
       " <pl_viz.pl_api.Student at 0x10d5a7f10>,\n",
       " <pl_viz.pl_api.Student at 0x10d5a7f40>,\n",
       " <pl_viz.pl_api.Student at 0x10d5a7f70>,\n",
       " <pl_viz.pl_api.Student at 0x10d5a7fa0>,\n",
       " <pl_viz.pl_api.Student at 0x10d5a7fd0>,\n",
       " <pl_viz.pl_api.Student at 0x10d68c040>,\n",
       " <pl_viz.pl_api.Student at 0x10d68c070>,\n",
       " <pl_viz.pl_api.Student at 0x10d68c0a0>,\n",
       " <pl_viz.pl_api.Student at 0x10d68c0d0>,\n",
       " <pl_viz.pl_api.Student at 0x10d68c100>,\n",
       " <pl_viz.pl_api.Student at 0x10d68c130>,\n",
       " <pl_viz.pl_api.Student at 0x10d68c160>,\n",
       " <pl_viz.pl_api.Student at 0x10d68c190>,\n",
       " <pl_viz.pl_api.Student at 0x10d68c1c0>,\n",
       " <pl_viz.pl_api.Student at 0x10d68c1f0>,\n",
       " <pl_viz.pl_api.Student at 0x10d68c220>,\n",
       " <pl_viz.pl_api.Student at 0x10d68c250>,\n",
       " <pl_viz.pl_api.Student at 0x10d68c280>,\n",
       " <pl_viz.pl_api.Student at 0x10d68c2b0>,\n",
       " <pl_viz.pl_api.Student at 0x10d68c2e0>,\n",
       " <pl_viz.pl_api.Student at 0x10d68c310>,\n",
       " <pl_viz.pl_api.Student at 0x10d68c340>,\n",
       " <pl_viz.pl_api.Student at 0x10d68c370>,\n",
       " <pl_viz.pl_api.Student at 0x10d68c3a0>,\n",
       " <pl_viz.pl_api.Student at 0x10d68c3d0>,\n",
       " <pl_viz.pl_api.Student at 0x10d68c400>,\n",
       " <pl_viz.pl_api.Student at 0x10d68c430>,\n",
       " <pl_viz.pl_api.Student at 0x10d68c460>,\n",
       " <pl_viz.pl_api.Student at 0x10d68c490>,\n",
       " <pl_viz.pl_api.Student at 0x10d68c4c0>,\n",
       " <pl_viz.pl_api.Student at 0x10d68c4f0>,\n",
       " <pl_viz.pl_api.Student at 0x10d68c520>,\n",
       " <pl_viz.pl_api.Student at 0x10d68c550>,\n",
       " <pl_viz.pl_api.Student at 0x10d68c580>,\n",
       " <pl_viz.pl_api.Student at 0x10d68c5b0>,\n",
       " <pl_viz.pl_api.Student at 0x10d68c5e0>,\n",
       " <pl_viz.pl_api.Student at 0x10d68c610>,\n",
       " <pl_viz.pl_api.Student at 0x10d68c640>,\n",
       " <pl_viz.pl_api.Student at 0x10d68c670>,\n",
       " <pl_viz.pl_api.Student at 0x10d68c6a0>,\n",
       " <pl_viz.pl_api.Student at 0x10d68c6d0>,\n",
       " <pl_viz.pl_api.Student at 0x10d68c700>,\n",
       " <pl_viz.pl_api.Student at 0x10d68c730>,\n",
       " <pl_viz.pl_api.Student at 0x10d68c760>,\n",
       " <pl_viz.pl_api.Student at 0x10d68c790>,\n",
       " <pl_viz.pl_api.Student at 0x10d68c7c0>,\n",
       " <pl_viz.pl_api.Student at 0x10d68c7f0>,\n",
       " <pl_viz.pl_api.Student at 0x10d68c820>,\n",
       " <pl_viz.pl_api.Student at 0x10d68c850>,\n",
       " <pl_viz.pl_api.Student at 0x10d68c880>,\n",
       " <pl_viz.pl_api.Student at 0x10d68c8b0>,\n",
       " <pl_viz.pl_api.Student at 0x10d68c8e0>,\n",
       " <pl_viz.pl_api.Student at 0x10d68c910>,\n",
       " <pl_viz.pl_api.Student at 0x10d68c940>,\n",
       " <pl_viz.pl_api.Student at 0x10d68c970>,\n",
       " <pl_viz.pl_api.Student at 0x10d68c9a0>,\n",
       " <pl_viz.pl_api.Student at 0x10d68c9d0>,\n",
       " <pl_viz.pl_api.Student at 0x10d68ca00>,\n",
       " <pl_viz.pl_api.Student at 0x10d68ca30>,\n",
       " <pl_viz.pl_api.Student at 0x10d68ca60>,\n",
       " <pl_viz.pl_api.Student at 0x10d68ca90>,\n",
       " <pl_viz.pl_api.Student at 0x10d68cac0>,\n",
       " <pl_viz.pl_api.Student at 0x10d68caf0>,\n",
       " <pl_viz.pl_api.Student at 0x10d68cb20>,\n",
       " <pl_viz.pl_api.Student at 0x10d68cb50>,\n",
       " <pl_viz.pl_api.Student at 0x10d68cb80>,\n",
       " <pl_viz.pl_api.Student at 0x10d68cbb0>,\n",
       " <pl_viz.pl_api.Student at 0x10d68cbe0>,\n",
       " <pl_viz.pl_api.Student at 0x10d68cc10>,\n",
       " <pl_viz.pl_api.Student at 0x10d68cc40>,\n",
       " <pl_viz.pl_api.Student at 0x10d68cc70>,\n",
       " <pl_viz.pl_api.Student at 0x10d68cca0>,\n",
       " <pl_viz.pl_api.Student at 0x10d68ccd0>,\n",
       " <pl_viz.pl_api.Student at 0x10d68cd00>,\n",
       " <pl_viz.pl_api.Student at 0x10d68cd30>,\n",
       " <pl_viz.pl_api.Student at 0x10d68cd60>,\n",
       " <pl_viz.pl_api.Student at 0x10d68cd90>,\n",
       " <pl_viz.pl_api.Student at 0x10d68cdc0>,\n",
       " <pl_viz.pl_api.Student at 0x10d68cdf0>,\n",
       " <pl_viz.pl_api.Student at 0x10d68ce20>,\n",
       " <pl_viz.pl_api.Student at 0x10d68ce50>,\n",
       " <pl_viz.pl_api.Student at 0x10d68ce80>,\n",
       " <pl_viz.pl_api.Student at 0x10d68ceb0>,\n",
       " <pl_viz.pl_api.Student at 0x10d68cee0>,\n",
       " <pl_viz.pl_api.Student at 0x10d68cf10>,\n",
       " <pl_viz.pl_api.Student at 0x10d68cf40>,\n",
       " <pl_viz.pl_api.Student at 0x10d68cf70>,\n",
       " <pl_viz.pl_api.Student at 0x10d68cfa0>,\n",
       " <pl_viz.pl_api.Student at 0x10d68cfd0>,\n",
       " <pl_viz.pl_api.Student at 0x10d68d000>,\n",
       " <pl_viz.pl_api.Student at 0x10d68d030>,\n",
       " <pl_viz.pl_api.Student at 0x10d68d060>,\n",
       " <pl_viz.pl_api.Student at 0x10d68d090>,\n",
       " <pl_viz.pl_api.Student at 0x10d68d0c0>,\n",
       " <pl_viz.pl_api.Student at 0x10d68d0f0>,\n",
       " <pl_viz.pl_api.Student at 0x10d68d120>,\n",
       " <pl_viz.pl_api.Student at 0x10d68d150>,\n",
       " <pl_viz.pl_api.Student at 0x10d68d180>,\n",
       " <pl_viz.pl_api.Student at 0x10d68d1b0>,\n",
       " <pl_viz.pl_api.Student at 0x10d68d1e0>,\n",
       " <pl_viz.pl_api.Student at 0x10d68d210>,\n",
       " <pl_viz.pl_api.Student at 0x10d68d240>,\n",
       " <pl_viz.pl_api.Student at 0x10d68d270>,\n",
       " <pl_viz.pl_api.Student at 0x10d68d2a0>,\n",
       " <pl_viz.pl_api.Student at 0x10d68d2d0>,\n",
       " <pl_viz.pl_api.Student at 0x10d68d300>,\n",
       " <pl_viz.pl_api.Student at 0x10d68d330>,\n",
       " <pl_viz.pl_api.Student at 0x10d68d360>,\n",
       " <pl_viz.pl_api.Student at 0x10d68d390>,\n",
       " <pl_viz.pl_api.Student at 0x10d68d3c0>,\n",
       " <pl_viz.pl_api.Student at 0x10d68d3f0>,\n",
       " <pl_viz.pl_api.Student at 0x10d68d420>,\n",
       " <pl_viz.pl_api.Student at 0x10d68d450>,\n",
       " <pl_viz.pl_api.Student at 0x10d68d480>,\n",
       " <pl_viz.pl_api.Student at 0x10d68d4b0>,\n",
       " <pl_viz.pl_api.Student at 0x10d68d4e0>,\n",
       " <pl_viz.pl_api.Student at 0x10d68d510>,\n",
       " <pl_viz.pl_api.Student at 0x10d68d540>,\n",
       " <pl_viz.pl_api.Student at 0x10d68d570>,\n",
       " <pl_viz.pl_api.Student at 0x10d68d5a0>,\n",
       " <pl_viz.pl_api.Student at 0x10d68d5d0>,\n",
       " <pl_viz.pl_api.Student at 0x10d68d600>,\n",
       " <pl_viz.pl_api.Student at 0x10d68d630>,\n",
       " <pl_viz.pl_api.Student at 0x10d68d660>,\n",
       " <pl_viz.pl_api.Student at 0x10d68d690>,\n",
       " <pl_viz.pl_api.Student at 0x10d68d6c0>,\n",
       " <pl_viz.pl_api.Student at 0x10d68d6f0>,\n",
       " <pl_viz.pl_api.Student at 0x10d68d720>,\n",
       " <pl_viz.pl_api.Student at 0x10d68d750>,\n",
       " <pl_viz.pl_api.Student at 0x10d68d780>,\n",
       " <pl_viz.pl_api.Student at 0x10d68d7b0>,\n",
       " <pl_viz.pl_api.Student at 0x10d68d7e0>,\n",
       " <pl_viz.pl_api.Student at 0x10d68d810>,\n",
       " <pl_viz.pl_api.Student at 0x10d68d840>,\n",
       " <pl_viz.pl_api.Student at 0x10d68d870>,\n",
       " <pl_viz.pl_api.Student at 0x10d68d8a0>,\n",
       " <pl_viz.pl_api.Student at 0x10d68d8d0>,\n",
       " <pl_viz.pl_api.Student at 0x10d68d900>,\n",
       " <pl_viz.pl_api.Student at 0x10d68d930>,\n",
       " <pl_viz.pl_api.Student at 0x10d68d960>,\n",
       " <pl_viz.pl_api.Student at 0x10d68d990>]"
      ]
     },
     "execution_count": 11,
     "metadata": {},
     "output_type": "execute_result"
    }
   ],
   "source": [
    "course_511.students"
   ]
  },
  {
   "cell_type": "markdown",
   "metadata": {},
   "source": [
    "Each Student instance provides access to key information about the student through the following attributes:\n",
    "\n",
    "- `student.user_id`: A unique identifier for the student on PrairieLearn.\n",
    "- `student.user_name`: The full name of the student.\n",
    "- `student.user_uid`: The student’s UID"
   ]
  }
 ],
 "metadata": {
  "kernelspec": {
   "display_name": "pl-viz",
   "language": "python",
   "name": "python3"
  },
  "language_info": {
   "codemirror_mode": {
    "name": "ipython",
    "version": 3
   },
   "file_extension": ".py",
   "mimetype": "text/x-python",
   "name": "python",
   "nbconvert_exporter": "python",
   "pygments_lexer": "ipython3",
   "version": "3.10.15"
  }
 },
 "nbformat": 4,
 "nbformat_minor": 2
}
