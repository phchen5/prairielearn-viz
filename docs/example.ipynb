{
 "cells": [
  {
   "cell_type": "markdown",
   "metadata": {},
   "source": [
    "# How to use pl_viz"
   ]
  },
  {
   "cell_type": "markdown",
   "metadata": {},
   "source": [
    "Welcome to the pl_viz package tutorial! This tutorial aims to showcase the ease and efficiency of using pl_viz for extracting and visualizing data."
   ]
  },
  {
   "cell_type": "code",
   "execution_count": 1,
   "metadata": {},
   "outputs": [],
   "source": [
    "import os\n",
    "from pl_viz.assessment import Assessment\n",
    "from pl_viz.course import Course\n",
    "from pl_viz.student import Student"
   ]
  },
  {
   "cell_type": "code",
   "execution_count": 2,
   "metadata": {},
   "outputs": [
    {
     "name": "stdout",
     "output_type": "stream",
     "text": [
      "None\n"
     ]
    }
   ],
   "source": [
    "# Now retrieve it\n",
    "token = os.getenv('PL_API_TOKEN')\n",
    "print(token)"
   ]
  },
  {
   "cell_type": "code",
   "execution_count": 4,
   "metadata": {},
   "outputs": [],
   "source": [
    "course_ids = {\n",
    "    \"511\": 161590,\n",
    "    \"512\": 161588,\n",
    "    \"521\": 156440,   \n",
    "}\n",
    "\n",
    "global_students = {}\n",
    "global_courses = {}\n",
    "global_assessments = {}"
   ]
  },
  {
   "cell_type": "code",
   "execution_count": 5,
   "metadata": {},
   "outputs": [
    {
     "name": "stdout",
     "output_type": "stream",
     "text": [
      "\n",
      "Fetched 162 students for course code 511.\n",
      "Fetched assessments:\n",
      "- cheatsheets/quiz_1 (Label: CS1)\n",
      "- cheatsheets/quiz_2 (Label: CS2)\n",
      "- New_1 (Label: HW1)\n",
      "- Quiz1 (Label: Q1)\n",
      "- Zac_Test (Label: Q1)\n",
      "- Quiz2 (Label: Q2)\n",
      "- practice/scratchpad (Label: PQ1)\n",
      "- practice/practice-quiz-2 (Label: PQ2)\n",
      "\n",
      "Fetched 153 students for course code 512.\n",
      "Fetched assessments:\n",
      "- cheatsheets/quiz_1 (Label: CS1)\n",
      "- cheatsheets/quiz_2 (Label: CS2)\n",
      "- Quiz1 (Label: Q1)\n",
      "- Quiz2 (Label: Q2)\n",
      "- PracticeQuiz1 (Label: PQ1)\n",
      "- PracticeQuiz2 (Label: PQ2)\n",
      "\n",
      "Fetched 154 students for course code 521.\n",
      "Fetched assessments:\n",
      "- cheatsheets/quiz_1 (Label: CS1)\n",
      "- cheatsheets/quiz_2 (Label: CS2)\n",
      "- Quiz1 (Label: Q1)\n",
      "- Quiz2 (Label: Q2)\n",
      "- PracticeQuiz1 (Label: PQ1)\n",
      "- practice_quiz_2 (Label: PQ2)\n"
     ]
    }
   ],
   "source": [
    "for course_code, course_id in course_ids.items():\n",
    "    course = Course(course_code, course_id, token)\n",
    "    global_courses[course_id] = course\n",
    "\n",
    "    course.fetch_students(global_students)\n",
    "    course.fetch_assessments(global_assessments)"
   ]
  }
 ],
 "metadata": {
  "kernelspec": {
   "display_name": "pl-viz",
   "language": "python",
   "name": "python3"
  },
  "language_info": {
   "codemirror_mode": {
    "name": "ipython",
    "version": 3
   },
   "file_extension": ".py",
   "mimetype": "text/x-python",
   "name": "python",
   "nbconvert_exporter": "python",
   "pygments_lexer": "ipython3",
   "version": "3.10.15"
  }
 },
 "nbformat": 4,
 "nbformat_minor": 2
}
